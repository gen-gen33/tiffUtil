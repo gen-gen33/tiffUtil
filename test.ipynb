{
 "cells": [
  {
   "cell_type": "code",
   "execution_count": 18,
   "metadata": {},
   "outputs": [
    {
     "name": "stdout",
     "output_type": "stream",
     "text": [
      "87\n",
      "uint8\n"
     ]
    }
   ],
   "source": [
    "import tifffile\n",
    "import cv2\n",
    "import numpy as np\n",
    "\n",
    "file_path = r\"D:\\T7Shieldmatsu(F)\\fttc\\sample_data\\1\\fluo_org.tif\"\n",
    "file_path = r\"D:\\T7Shieldmatsu(F)\\fttc\\sample_data\\1\\high_speed_Combined Stacks.tif\"\n",
    "with tifffile.TiffFile(file_path) as tif:\n",
    "    total_frames = len(tif.pages)\n",
    "    print(total_frames)\n",
    "    img = tif.pages[0].asarray()\n",
    "    print(img.dtype)"
   ]
  }
 ],
 "metadata": {
  "kernelspec": {
   "display_name": "Python 3",
   "language": "python",
   "name": "python3"
  },
  "language_info": {
   "codemirror_mode": {
    "name": "ipython",
    "version": 3
   },
   "file_extension": ".py",
   "mimetype": "text/x-python",
   "name": "python",
   "nbconvert_exporter": "python",
   "pygments_lexer": "ipython3",
   "version": "3.13.2"
  }
 },
 "nbformat": 4,
 "nbformat_minor": 2
}
